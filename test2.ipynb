{
 "cells": [
  {
   "cell_type": "code",
   "execution_count": 3,
   "id": "dcb7b5e0-175c-4276-a283-28f33d460b10",
   "metadata": {
    "tags": []
   },
   "outputs": [
    {
     "name": "stdout",
     "output_type": "stream",
     "text": [
      "Weather in London: few clouds\n",
      "Temperature: 22.95 °C\n",
      "Humidity: 61%\n"
     ]
    }
   ],
   "source": [
    "import requests\n",
    "import json\n",
    "from streamlit.connections import ExperimentalBaseConnection\n",
    "\n",
    "class OpenWeatherMapConnection(ExperimentalBaseConnection[requests.Session]):\n",
    "    def __init__(self, *args, connection_name, **kwargs):\n",
    "        super().__init__(*args, connection_name=connection_name, **kwargs)\n",
    "        self._resource = self._connect()\n",
    "\n",
    "    def _connect(self) -> requests.Session:\n",
    "        return requests.Session()\n",
    "\n",
    "    def cursor(self):\n",
    "        return self._resource\n",
    "\n",
    "    def get_weather(self, city_name):\n",
    "        with self._resource as s:\n",
    "            url = 'http://api.openweathermap.org/data/2.5/weather'\n",
    "            params = {\n",
    "                'q': city_name,\n",
    "                'appid': 'fe952f9b69a7b12dd4e42d3f2a55f6f4',\n",
    "                'units': 'metric'  # Use 'imperial' for Fahrenheit\n",
    "            }\n",
    "\n",
    "            response = s.get(url, params=params)\n",
    "\n",
    "        if response.status_code == 200:\n",
    "            data = response.json()\n",
    "            weather_description = data['weather'][0]['description']\n",
    "            temperature = data['main']['temp']\n",
    "            humidity = data['main']['humidity']\n",
    "\n",
    "            return {\n",
    "                \"weather_description\": weather_description,\n",
    "                \"temperature\": temperature,\n",
    "                \"humidity\": humidity\n",
    "            }\n",
    "        else:\n",
    "            raise ValueError(\"Failed to retrieve weather information.\")\n",
    "\n",
    "# Usage example:\n",
    "if __name__ == \"__main__\":\n",
    "    api_key = 'fe952f9b69a7b12dd4e42d3f2a55f6f4'  # Replace with your actual API key\n",
    "    city_name = 'London'  # Replace with the desired city name\n",
    "\n",
    "    connection = OpenWeatherMapConnection(connection_name=\"OpenWeatherMap\")\n",
    "    connection._resource.headers.update({'appid': api_key})\n",
    "\n",
    "    try:\n",
    "        weather_data = connection.get_weather(city_name)\n",
    "        print(f\"Weather in {city_name}: {weather_data['weather_description']}\")\n",
    "        print(f\"Temperature: {weather_data['temperature']} °C\")\n",
    "        print(f\"Humidity: {weather_data['humidity']}%\")\n",
    "    except ValueError as e:\n",
    "        print(e)"
   ]
  },
  {
   "cell_type": "code",
   "execution_count": null,
   "id": "78f858a7-acf2-4580-b15f-5dfb38bfb36c",
   "metadata": {},
   "outputs": [],
   "source": []
  }
 ],
 "metadata": {
  "kernelspec": {
   "display_name": "Python 3 (ipykernel)",
   "language": "python",
   "name": "python3"
  },
  "language_info": {
   "codemirror_mode": {
    "name": "ipython",
    "version": 3
   },
   "file_extension": ".py",
   "mimetype": "text/x-python",
   "name": "python",
   "nbconvert_exporter": "python",
   "pygments_lexer": "ipython3",
   "version": "3.10.2"
  }
 },
 "nbformat": 4,
 "nbformat_minor": 5
}
